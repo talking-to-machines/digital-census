{
 "cells": [
  {
   "cell_type": "markdown",
   "id": "c80a93d0",
   "metadata": {},
   "source": [
    "## This notebook contains the code to create dynamic and interactive maps of Ghana in HTML."
   ]
  },
  {
   "cell_type": "markdown",
   "id": "512c51d3",
   "metadata": {},
   "source": [
    "# 0. Import Packages"
   ]
  },
  {
   "cell_type": "code",
   "execution_count": null,
   "id": "3552547a",
   "metadata": {},
   "outputs": [],
   "source": [
    "import pandas as pd\n",
    "import shapely.wkt\n",
    "import matplotlib\n",
    "import geopandas as gpd\n",
    "import folium\n",
    "import matplotlib.cm as cm\n",
    "import branca.colormap as cmp\n",
    "\n",
    "pd.set_option('display.max_rows', None)\n",
    "pd.set_option('display.max_columns', None)\n",
    "pd.options.mode.chained_assignment = None  # default='warn'\n",
    "\n",
    "STARTING_LATITUDE = 8.161477\n",
    "STARTING_LONGITUDE = -1.170247\n",
    "cmap = cm.viridis"
   ]
  },
  {
   "cell_type": "markdown",
   "id": "f99a171b",
   "metadata": {},
   "source": [
    "# 1. Load Data"
   ]
  },
  {
   "cell_type": "code",
   "execution_count": null,
   "id": "8bbfd0fb",
   "metadata": {},
   "outputs": [],
   "source": [
    "# Micro-data sample from Ghana census 2021, with averaged covariates across spatial units \n",
    "df_population = pd.read_csv('../data/outputs/df_stratification_frame_unit.csv')\n",
    "df_population['spatial_unit'] = df_population['spatial_unit'].apply(shapely.wkt.loads)\n",
    "df_population.head()"
   ]
  },
  {
   "cell_type": "code",
   "execution_count": null,
   "id": "972118a2",
   "metadata": {},
   "outputs": [],
   "source": [
    "# synthetic subjects from 7 urban districts\n",
    "df_accra = pd.read_csv('../data/synthetic_subjects_urban.csv')\n",
    "df_accra.head()"
   ]
  },
  {
   "cell_type": "code",
   "execution_count": null,
   "id": "eaa14ac9",
   "metadata": {},
   "outputs": [],
   "source": [
    "# Synthetic subjects from 12 rural districts\n",
    "df_rural = pd.read_csv('../data/synthetic_subjects_rural.csv')\n",
    "df_rural.head()"
   ]
  },
  {
   "cell_type": "code",
   "execution_count": null,
   "id": "da21fb8b",
   "metadata": {},
   "outputs": [],
   "source": [
    "# Subjects from RCT \n",
    "df_ghana = pd.read_csv('../data/df_ghana_complete.csv')\n",
    "df_ghana.head()"
   ]
  },
  {
   "cell_type": "code",
   "execution_count": null,
   "id": "db054260",
   "metadata": {},
   "outputs": [],
   "source": [
    "# Subjects from CANDOUR Wave II\n",
    "df_candour = pd.read_csv('../data/df_candour_final.csv')\n",
    "df_candour.head()"
   ]
  },
  {
   "cell_type": "code",
   "execution_count": null,
   "id": "5e2aa0fd",
   "metadata": {},
   "outputs": [],
   "source": [
    "# Subdistrict to spatial unit mapping\n",
    "with open(\"../data/subdistrict_to_spatial_unit_dict.pickle\", \"rb\") as f:\n",
    "    object = pd.read_pickle(f)\n",
    "    \n",
    "df_district = pd.DataFrame(object)\n",
    "df_district.head()"
   ]
  },
  {
   "cell_type": "markdown",
   "id": "c88990e3",
   "metadata": {},
   "source": [
    "# 2. Calculate average demographic features across the lowest-level geographic space"
   ]
  },
  {
   "cell_type": "code",
   "execution_count": null,
   "id": "63481a04",
   "metadata": {},
   "outputs": [],
   "source": [
    "def calculate_grouped_average(data: pd.DataFrame, groupby: str, features: list) -> pd.DataFrame:\n",
    "    \"\"\"\n",
    "    Calculate the average values of different demographic features across the lowest-level\n",
    "    geographical space (e.g., spatial unit, district).ipynb_checkpoints/\n",
    "    \n",
    "    Parameters:\n",
    "        data: A dataframe containing different demograp\n",
    "        groupby: A string indicating the lowest-level geographical space.\n",
    "        features: A list of features that will be averaged.\n",
    "    \n",
    "    Returns:\n",
    "        grouped_ave: A dataframe containing the averaged values of each demographic\n",
    "        feature grouped across each lowest-level geographical space. \n",
    "    \"\"\"\n",
    "    grouped_ave = data.groupby(groupby, as_index=False)[features].mean()\n",
    "    return grouped_ave\n"
   ]
  },
  {
   "cell_type": "code",
   "execution_count": null,
   "id": "d32d8195",
   "metadata": {},
   "outputs": [],
   "source": [
    "df_ghana_averaged = calculate_grouped_average(\n",
    "    data=df_ghana,\n",
    "    groupby='spatial_unit',\n",
    "    features=['Age','Female','SchoolMiddleSchoolOrGreater','Reported_ITECDC','Reported_ITEHighCash','Reported_ITELowCash','RWI','NPP_%','NDC_%']\n",
    ")\n",
    "df_ghana_averaged['spatial_unit'] = df_ghana_averaged['spatial_unit'].apply(shapely.wkt.loads)\n",
    "df_ghana_averaged.head()"
   ]
  },
  {
   "cell_type": "code",
   "execution_count": null,
   "id": "17727d60",
   "metadata": {},
   "outputs": [],
   "source": [
    "df_candour_averaged = calculate_grouped_average(\n",
    "    data=df_candour,\n",
    "    groupby='District',\n",
    "    features=['Age','Female','SchoolMiddleSchoolOrGreater','Dictator','RWI','NPP_%','NDC_%']\n",
    ")\n",
    "df_candour_averaged.head()"
   ]
  },
  {
   "cell_type": "code",
   "execution_count": null,
   "id": "9b5d467e",
   "metadata": {},
   "outputs": [],
   "source": [
    "df_accra_averaged = calculate_grouped_average(\n",
    "    data=df_accra,\n",
    "    groupby='District',\n",
    "    features=['Age','Female','SchoolMiddleSchoolOrGreater','RWI','NPP_%','NDC_%']\n",
    ")\n",
    "df_accra_averaged.head()"
   ]
  },
  {
   "cell_type": "code",
   "execution_count": null,
   "id": "25d7a8c5",
   "metadata": {},
   "outputs": [],
   "source": [
    "df_rural_averaged = calculate_grouped_average(\n",
    "    data=df_rural,\n",
    "    groupby='District',\n",
    "    features=['Age','Female','SchoolMiddleSchoolOrGreater','RWI','NPP_%','NDC_%']\n",
    ")\n",
    "df_rural_averaged.head()"
   ]
  },
  {
   "cell_type": "markdown",
   "id": "a0bbf5cb",
   "metadata": {},
   "source": [
    "# 3. Map Grouped Data to Spatial Units"
   ]
  },
  {
   "cell_type": "code",
   "execution_count": null,
   "id": "0ce00e50",
   "metadata": {},
   "outputs": [],
   "source": [
    "def map_data_to_spatial_units(spatial_units: pd.DataFrame, grouped_data: pd.DataFrame) -> pd.DataFrame:\n",
    "    \"\"\"\n",
    "    Maps the district of the grouped demographic data with their spatial units.\n",
    "\n",
    "    Parameters:\n",
    "        spatial_units: A dataframe containing the mapping between subdistricts and spatial units.\n",
    "        grouped_data: A dataframe containing the averaged demographic data across different subdistricts.\n",
    "\n",
    "    Returns:\n",
    "        grouped_data_with_spatial_units: A dataframe containing the averaged demographic data mapped to\n",
    "        spatial units.\n",
    "    \"\"\"\n",
    "    grouped_data_with_spatial_units = pd.merge(\n",
    "        left=spatial_units[['spatial_unit', 'subdistrict']],\n",
    "        right=grouped_data,\n",
    "        left_on='subdistrict',\n",
    "        right_on='District',\n",
    "        how='left'\n",
    "    )\n",
    "    grouped_data_with_spatial_units = grouped_data_with_spatial_units.drop(columns=['subdistrict'])\n",
    "    grouped_data_with_spatial_units = grouped_data_with_spatial_units[grouped_data_with_spatial_units['Female'].notna()]\n",
    "    \n",
    "    return grouped_data_with_spatial_units"
   ]
  },
  {
   "cell_type": "code",
   "execution_count": null,
   "id": "69f4d74b",
   "metadata": {},
   "outputs": [],
   "source": [
    "df_candour_units = map_data_to_spatial_units(df_district, df_candour_averaged)\n",
    "df_candour_units.head()"
   ]
  },
  {
   "cell_type": "code",
   "execution_count": null,
   "id": "b343b1ff",
   "metadata": {},
   "outputs": [],
   "source": [
    "df_accra_units = map_data_to_spatial_units(df_district, df_accra_averaged)\n",
    "df_accra_units.head()"
   ]
  },
  {
   "cell_type": "code",
   "execution_count": null,
   "id": "8ec7793c",
   "metadata": {},
   "outputs": [],
   "source": [
    "df_rural_units = map_data_to_spatial_units(df_district, df_rural_averaged)\n",
    "df_rural_units.head()"
   ]
  },
  {
   "cell_type": "markdown",
   "id": "f11c02b9",
   "metadata": {},
   "source": [
    "# 4. Create Spatial Maps"
   ]
  },
  {
   "cell_type": "code",
   "execution_count": null,
   "id": "29990cfa",
   "metadata": {},
   "outputs": [],
   "source": [
    "# run code to generate a map for each variable listed above \n",
    "def create_spatial_map(var: list, df: pd.DataFrame, data_source: str, scaled=False, cov_extremes=None, boundary_polygon=False) -> None:\n",
    "    \"\"\"\n",
    "    Generates a spatial map for each demographic variable within the survey data.\n",
    "\n",
    "    Parameters:\n",
    "        var: A list of demographic variables to be visualised using the spatial map.\n",
    "        df: Dataframe containing the survey data\n",
    "        data_source: A string indicating the data source.\n",
    "        scaled: Indicates if the scale is map-specific or covariate-specific.\n",
    "        cov_extremes:\n",
    "        boundary_polygons: Indicates if district boundaries are included in the map\n",
    "        \n",
    "    Returns:\n",
    "        None\n",
    "    \"\"\"\n",
    "    for v in var: \n",
    "\n",
    "        df_i = df[df[v].notna()] # drop all rows that have NaN for the variable \n",
    "\n",
    "        # scale is map-specific\n",
    "        if not scaled:\n",
    "            mini = round(df_i[v].min(), 3)\n",
    "            maxi = round(df_i[v].max(), 3)\n",
    "        else: # scale is covariate-specific\n",
    "            mini = cov_extremes[v.split(\"_\")[0]][0] # min\n",
    "            maxi = cov_extremes[v.split(\"_\")[0]][1] # max\n",
    "\n",
    "        print(v + \" Minimum: {}, Maximum: {}\".format(mini, maxi))\n",
    "\n",
    "        # convert float to color\n",
    "        def float_to_color(val):\n",
    "            cmap = cm.viridis\n",
    "            norm = matplotlib.colors.Normalize(vmin=mini, vmax=maxi)\n",
    "            rgba = cmap(norm(val))\n",
    "            hex_color = '%02x%02x%02x' % (int(rgba[0]*255), int(rgba[1]*255), int(rgba[2]*255))\n",
    "            return \"#\" + hex_color\n",
    "\n",
    "        # create map\n",
    "        m = folium.Map(location=[STARTING_LATITUDE, STARTING_LONGITUDE], zoom_start=6.5, tiles='CartoDB positron')\n",
    "        for _, r in df_i[[v, 'spatial_unit']].iterrows():\n",
    "            geo_j = gpd.GeoSeries(r['spatial_unit']).to_json()\n",
    "            fillColor = float_to_color(r[v])\n",
    "            geo_j = folium.GeoJson(data=geo_j,\n",
    "                                   style_function=lambda feature, fillColor=fillColor: {'fillColor': fillColor,\n",
    "                                                                   'fillOpacity': .8,\n",
    "                                                            \"color\": \"black\",\n",
    "                                                            'weight': 0})\n",
    "            folium.Popup(html=v + \": \" + str(round(r[v], 4))).add_to(geo_j)\n",
    "            geo_j.add_to(m)\n",
    "        \n",
    "        # Add the district boundary to the map (if provided)\n",
    "        if boundary_polygon:\n",
    "            for bp in boundary_polygon: \n",
    "                geojson_boundary = bp.__geo_interface__\n",
    "                folium.GeoJson(data=geojson_boundary, name='District Boundary', style_function=lambda x: {\n",
    "                    'color': 'red',  # Change the color as desired\n",
    "                    'weight': 2,\n",
    "                    'opacity': 1,\n",
    "                }).add_to(m)\n",
    "\n",
    "        # add color scale to top right\n",
    "        colormap = cmp.linear.viridis.scale(vmin=mini, vmax=maxi)\n",
    "        colormap.caption = v\n",
    "        colormap.add_to(m)\n",
    "\n",
    "        # save map \n",
    "        m.save(outfile= \"../maps/{}_\".format(data_source) + v + \".html\")"
   ]
  },
  {
   "cell_type": "code",
   "execution_count": null,
   "id": "ca11899a",
   "metadata": {},
   "outputs": [],
   "source": [
    "# Generate spatial maps for CENSUS data\n",
    "cols = ['Age','Female','SchoolMiddleSchoolOrGreater','RWI','NPP_%','NDC_%']\n",
    "create_spatial_map(cols, df_population, \"CENSUS\")"
   ]
  },
  {
   "cell_type": "code",
   "execution_count": null,
   "id": "1697bd9e",
   "metadata": {},
   "outputs": [],
   "source": [
    "# Generate spatial maps for GHANA\n",
    "cols = ['Age','Female','SchoolMiddleSchoolOrGreater','RWI','NPP_%','NDC_%','Reported_ITECDC','Reported_ITEHighCash','Reported_ITELowCash']\n",
    "create_spatial_map(cols, df_ghana_averaged, \"GHANA\")"
   ]
  },
  {
   "cell_type": "code",
   "execution_count": null,
   "id": "135c8826",
   "metadata": {},
   "outputs": [],
   "source": [
    "# Generate spatial maps for CANDOUR\n",
    "cols = ['Age','Female','SchoolMiddleSchoolOrGreater','Dictator','RWI','NPP_%','NDC_%']\n",
    "create_spatial_map(cols, df_candour_units, \"CANDOUR\")"
   ]
  },
  {
   "cell_type": "code",
   "execution_count": null,
   "id": "8feab7ef",
   "metadata": {},
   "outputs": [],
   "source": [
    "# Generate spatial maps for ACCRA\n",
    "cols = ['Age','Female','SchoolMiddleSchoolOrGreater','RWI','NPP_%','NDC_%']\n",
    "create_spatial_map(cols, df_accra_units, \"ACCRA\")"
   ]
  },
  {
   "cell_type": "code",
   "execution_count": null,
   "id": "e07275ca",
   "metadata": {},
   "outputs": [],
   "source": [
    "# Generate spatial maps for Rural units\n",
    "cols = ['Age','Female','SchoolMiddleSchoolOrGreater','RWI','NPP_%','NDC_%']\n",
    "create_spatial_map(cols, df_rural_units, \"RURAL\")"
   ]
  }
 ],
 "metadata": {
  "kernelspec": {
   "display_name": "Python 3 (ipykernel)",
   "language": "python",
   "name": "python3"
  },
  "language_info": {
   "codemirror_mode": {
    "name": "ipython",
    "version": 3
   },
   "file_extension": ".py",
   "mimetype": "text/x-python",
   "name": "python",
   "nbconvert_exporter": "python",
   "pygments_lexer": "ipython3",
   "version": "3.11.9"
  }
 },
 "nbformat": 4,
 "nbformat_minor": 5
}
